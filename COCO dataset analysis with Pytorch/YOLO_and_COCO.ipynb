{
 "cells": [
  {
   "attachments": {},
   "cell_type": "markdown",
   "metadata": {},
   "source": [
    "# YOLO (You Only Look Once):  \n",
    "YOLO (You Only Look Once) is a real-time object detection algorithm developed by Ultralytics that uses a single convolutional neural network to detect and classify objects in an image. It has become a popular choice for object detection in both research and industry.\n",
    "\n",
    "### YOLOv5 is the latest version of the YOLO object detection system.\n",
    "\n",
    "YOLO was introduced by researchers at the University of Washington in 2015 and was a milestone in object detection research due to its capability of detecting objects in real-time with relatively high accuracy. Since launching nearly a decade ago, YOLO has undergone several iterations, including the launch of YOLOv5 in 2021 (we use this version in this Challenge)."
   ]
  },
  {
   "attachments": {},
   "cell_type": "markdown",
   "metadata": {},
   "source": [
    "# COCO dataset:\n",
    "\n",
    "The COCO dataset is a large-scale object detection, segmentation, and captioning dataset. It contains 330K images (>200K labeled) with more than 1.5 million object instances. The dataset contains 80 object categories, including common animals such as cats, dogs, birds, and horses, everyday objects such as chairs, tables, cups, and bottles, and vehicles such as cars, trucks, bicycles, and boats."
   ]
  },
  {
   "cell_type": "code",
   "execution_count": null,
   "metadata": {},
   "outputs": [],
   "source": []
  }
 ],
 "metadata": {
  "language_info": {
   "name": "python"
  },
  "orig_nbformat": 4
 },
 "nbformat": 4,
 "nbformat_minor": 2
}
